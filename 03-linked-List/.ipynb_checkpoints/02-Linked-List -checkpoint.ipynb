{
 "cells": [
  {
   "cell_type": "code",
   "execution_count": 80,
   "id": "ef85bca8",
   "metadata": {},
   "outputs": [],
   "source": [
    "class Node:\n",
    "    \n",
    "    def __init__(self, data=None):\n",
    "        self.val = data\n",
    "        self.next = None\n",
    "    \n",
    "    \n",
    "class LinkedList:\n",
    "    def __init__(self):\n",
    "        self.head = None"
   ]
  },
  {
   "cell_type": "markdown",
   "id": "1a5578eb",
   "metadata": {},
   "source": [
    "## The Push Operation "
   ]
  },
  {
   "cell_type": "code",
   "execution_count": 81,
   "id": "4721627e",
   "metadata": {},
   "outputs": [],
   "source": [
    "def push(self, val):\n",
    "    new_node = Node(val)\n",
    "    \n",
    "    #case-1:- No node Currently \n",
    "    \n",
    "    if self.head is None:\n",
    "        self.head = new_node \n",
    "        return \n",
    "    \n",
    "    #Case-2:- Atleast 1 node exists.So, reach at the end and then insert the new node..\n",
    "    last = self.head \n",
    "    while last.next is not None:\n",
    "        last = last.next\n",
    "        \n",
    "    \n",
    "    last.next = new_node \n",
    "    \n",
    "    \n",
    "    \n",
    "LinkedList.push = push    "
   ]
  },
  {
   "cell_type": "code",
   "execution_count": 82,
   "id": "42f4396c",
   "metadata": {},
   "outputs": [],
   "source": [
    "def __str__(self):\n",
    "    ret_str = '['\n",
    "    temp = self.head \n",
    "    \n",
    "    while temp is not None:\n",
    "        ret_str += str(temp.val) + ', '\n",
    "        temp = temp.next \n",
    "        \n",
    "    \n",
    "    ret_str =  ret_str.rstrip(', ')\n",
    "    ret_str += ']'\n",
    "    return ret_str \n",
    "\n",
    "LinkedList.__str__ = __str__"
   ]
  },
  {
   "cell_type": "code",
   "execution_count": 83,
   "id": "bb873810",
   "metadata": {},
   "outputs": [],
   "source": [
    "def pop(self):\n",
    "    \n",
    "    #Case-1:-If there is no node \n",
    "    if self.head is None:\n",
    "        raise Exception(\"Case-1:- There is nothing to pop \")\n",
    "      \n",
    "    #Case-2:- If there is only one node \n",
    "    if self.head.next is None:\n",
    "        val = self.head.val\n",
    "        self.head = None #Automatic Garbage value will be deleted now\n",
    "        return val\n",
    "        \n",
    "        \n",
    "    #case-3:- where there is two or more nodes\n",
    "    \n",
    "    temp = self.head\n",
    "    \n",
    "    \n",
    "    \n",
    "    while temp.next is not None:\n",
    "        prev =  temp\n",
    "        temp = temp.next\n",
    "    \n",
    "    val = temp.val\n",
    "    prev.next = None\n",
    "    return val \n",
    "    \n",
    "\n",
    "    \n",
    "LinkedList.pop = pop   "
   ]
  },
  {
   "cell_type": "code",
   "execution_count": 84,
   "id": "e5d1fc34",
   "metadata": {},
   "outputs": [],
   "source": [
    "def insert(self, index, val):\n",
    "    new_node = Node(val)\n",
    "    \n",
    "    \n",
    "    #case-1 Insert at 0th index  \n",
    "    \n",
    "    if index==0:\n",
    "        print(\"Insert-Case-1. Insert at 0th index\")\n",
    "        new_node.next = self.head\n",
    "        self.head = new_node\n",
    "        return \n",
    "    \n",
    "    \n",
    "    \n",
    "    #case-2 Insert at other indexes \n",
    "    temp =  self.head\n",
    "    print(\"Insert-Case-2. Insert at other then 0th index\")\n",
    "    counter = 0\n",
    "    while temp is not None and  counter < index:\n",
    "        prev = temp\n",
    "        temp = temp.next\n",
    "        counter+=1 \n",
    "        \n",
    "    \n",
    "    prev.next = new_node\n",
    "    new_node.next = temp\n",
    "    \n",
    "LinkedList.insert = insert"
   ]
  },
  {
   "cell_type": "code",
   "execution_count": 117,
   "id": "001ea6a1",
   "metadata": {},
   "outputs": [],
   "source": [
    "def remove(self, val):\n",
    "    \n",
    "    temp = self.head\n",
    "    \n",
    "    \n",
    "    # Case-1-----------------------------------\n",
    "    \n",
    "    if temp is not None:\n",
    "        if temp.val == val:\n",
    "            self.head = temp.next\n",
    "            temp = None  # No need to do this...Because temp is local variable it will be automatically deleted\n",
    "            return \n",
    "    \n",
    "     # Case-2-----------------------------------\n",
    "    while temp is not None:\n",
    "        if temp.val == val:\n",
    "            break\n",
    "        \n",
    "        \n",
    "        prev = temp \n",
    "        temp = temp.next \n",
    "    \n",
    "    \n",
    "    \n",
    "    if temp is None:\n",
    "        print(val,\" not found\")\n",
    "        return \n",
    "        \n",
    "    prev.next = temp.next \n",
    "        \n",
    "    \n",
    "LinkedList.remove = remove             "
   ]
  },
  {
   "cell_type": "code",
   "execution_count": 118,
   "id": "86ed4c1b",
   "metadata": {},
   "outputs": [],
   "source": [
    "l = LinkedList()"
   ]
  },
  {
   "cell_type": "code",
   "execution_count": 119,
   "id": "48163752",
   "metadata": {},
   "outputs": [
    {
     "name": "stdout",
     "output_type": "stream",
     "text": [
      "[8, 9, 6]\n"
     ]
    }
   ],
   "source": [
    "l.push(8)\n",
    "l.push(9)\n",
    "l.push(6)\n",
    "print(l)"
   ]
  },
  {
   "cell_type": "code",
   "execution_count": 120,
   "id": "5d69b7f3",
   "metadata": {},
   "outputs": [
    {
     "name": "stdout",
     "output_type": "stream",
     "text": [
      "5  not found\n",
      "[8, 9, 6]\n"
     ]
    }
   ],
   "source": [
    "l.remove(5)\n",
    "print(l)"
   ]
  },
  {
   "cell_type": "code",
   "execution_count": 121,
   "id": "1d5e817c",
   "metadata": {},
   "outputs": [
    {
     "name": "stdout",
     "output_type": "stream",
     "text": [
      "[9, 6]\n"
     ]
    }
   ],
   "source": [
    "l.remove(8)\n",
    "print(l)"
   ]
  },
  {
   "cell_type": "code",
   "execution_count": null,
   "id": "af217ee0",
   "metadata": {},
   "outputs": [],
   "source": []
  }
 ],
 "metadata": {
  "kernelspec": {
   "display_name": "Python 3 (ipykernel)",
   "language": "python",
   "name": "python3"
  },
  "language_info": {
   "codemirror_mode": {
    "name": "ipython",
    "version": 3
   },
   "file_extension": ".py",
   "mimetype": "text/x-python",
   "name": "python",
   "nbconvert_exporter": "python",
   "pygments_lexer": "ipython3",
   "version": "3.9.12"
  }
 },
 "nbformat": 4,
 "nbformat_minor": 5
}
