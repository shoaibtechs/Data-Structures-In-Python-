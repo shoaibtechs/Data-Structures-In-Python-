{
 "cells": [
  {
   "cell_type": "code",
   "execution_count": 1,
   "id": "ef85bca8",
   "metadata": {},
   "outputs": [],
   "source": [
    "class Node:\n",
    "    \n",
    "    def __init__(self, data=None):\n",
    "        self.val = data\n",
    "        self.next = None\n",
    "    \n",
    "    \n",
    "class LinkedList:\n",
    "    def __init__(self):\n",
    "        self.head = None"
   ]
  },
  {
   "cell_type": "markdown",
   "id": "1a5578eb",
   "metadata": {},
   "source": [
    "## The Push Operation "
   ]
  },
  {
   "cell_type": "code",
   "execution_count": 3,
   "id": "4721627e",
   "metadata": {},
   "outputs": [],
   "source": [
    "def push(self, val):\n",
    "    new_node = Node(val)\n",
    "    \n",
    "    #case-1:- No node Currently \n",
    "    \n",
    "    if self.head is None:\n",
    "        self.head = new_node \n",
    "        return \n",
    "    \n",
    "    #Case-2:- Atleast 1 node exists.So, reach at the end and then insert the new node..\n",
    "    last = self.head \n",
    "    \n",
    "    while last.next is not None:\n",
    "        last = last.next\n",
    "    \n",
    "    \n",
    "    last.next = new_node \n",
    "    \n",
    "    \n",
    "    \n",
    "LinkedList.push = push \n",
    "    "
   ]
  },
  {
   "cell_type": "code",
   "execution_count": null,
   "id": "c9d078e1",
   "metadata": {},
   "outputs": [],
   "source": [
    "l = LinkedList()\n",
    "l.push(1)\n",
    "l.push(2)\n",
    "l.push(3)\n",
    "\n"
   ]
  }
 ],
 "metadata": {
  "kernelspec": {
   "display_name": "Python 3 (ipykernel)",
   "language": "python",
   "name": "python3"
  },
  "language_info": {
   "codemirror_mode": {
    "name": "ipython",
    "version": 3
   },
   "file_extension": ".py",
   "mimetype": "text/x-python",
   "name": "python",
   "nbconvert_exporter": "python",
   "pygments_lexer": "ipython3",
   "version": "3.9.12"
  }
 },
 "nbformat": 4,
 "nbformat_minor": 5
}
