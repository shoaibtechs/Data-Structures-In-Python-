{
 "cells": [
  {
   "cell_type": "code",
   "execution_count": 3,
   "id": "cb44d556",
   "metadata": {},
   "outputs": [],
   "source": [
    "def fib1(n):\n",
    "    \n",
    "    if(n<=1):\n",
    "        return 1\n",
    "    \n",
    "    else:\n",
    "        return fib1(n-1) + fib1(n-2)"
   ]
  },
  {
   "cell_type": "code",
   "execution_count": 4,
   "id": "4f2ebdae",
   "metadata": {},
   "outputs": [],
   "source": [
    "def fib2(n):\n",
    "    \n",
    "    a=1\n",
    "    b=1 \n",
    "    \n",
    "    for i in range(n):\n",
    "        a, b = b, a+b\n",
    "        \n",
    "    return a"
   ]
  },
  {
   "cell_type": "code",
   "execution_count": 5,
   "id": "7e103ea5",
   "metadata": {},
   "outputs": [
    {
     "name": "stdout",
     "output_type": "stream",
     "text": [
      "fib: \n",
      "1, 1, 2, 3, 5, 8, 13, 21, 34, 55, 89, 144, 233, 377, 610, \n",
      "\n",
      "\n",
      "fib2: \n",
      "1, 1, 2, 3, 5, 8, 13, 21, 34, 55, 89, 144, 233, 377, 610, "
     ]
    }
   ],
   "source": [
    "print('fib: ')\n",
    "for i in range(15):\n",
    "    print(fib1(i), end=\", \")\n",
    "\n",
    "print('\\n\\n')\n",
    "print('fib2: ') \n",
    "\n",
    "for i in range(15):\n",
    "    print(fib2(i), end=\", \")"
   ]
  },
  {
   "cell_type": "code",
   "execution_count": 12,
   "id": "005e6020",
   "metadata": {},
   "outputs": [],
   "source": [
    "import time\n",
    "\n",
    "def compute_times(fn, limit):\n",
    "    l = []\n",
    "    \n",
    "    for i in range(limit):\n",
    "        \n",
    "        start_time =  int(round(time.time()* 1000))\n",
    "        \n",
    "        fn(i)\n",
    "        \n",
    "        end_time =  int(round(time.time()*1000))\n",
    "        time_taken =  end_time - start_time \n",
    "        \n",
    "        l.append(time_taken)\n",
    "    \n",
    "    return l\n",
    "                        "
   ]
  },
  {
   "cell_type": "code",
   "execution_count": 13,
   "id": "e269887d",
   "metadata": {},
   "outputs": [],
   "source": [
    "limit = 30\n",
    "fib1_times = compute_times(fib1, limit)\n",
    "fib2_times = compute_times(fib2, limit)"
   ]
  },
  {
   "cell_type": "code",
   "execution_count": 14,
   "id": "7b0ca213",
   "metadata": {},
   "outputs": [
    {
     "name": "stdout",
     "output_type": "stream",
     "text": [
      "[0, 0, 0, 0, 0, 0, 0, 0, 0, 0, 0, 0, 0, 0, 0, 0, 0, 1, 1, 2, 4, 7, 7, 15, 15, 24, 37, 61, 102, 159]\n"
     ]
    }
   ],
   "source": [
    "print(fib1_times)\n"
   ]
  },
  {
   "cell_type": "code",
   "execution_count": 15,
   "id": "3b9c26c5",
   "metadata": {},
   "outputs": [
    {
     "name": "stdout",
     "output_type": "stream",
     "text": [
      "[0, 0, 0, 0, 0, 0, 0, 0, 0, 0, 0, 0, 0, 0, 0, 0, 0, 0, 0, 0, 0, 0, 0, 0, 0, 0, 0, 0, 0, 0]\n"
     ]
    }
   ],
   "source": [
    "print(fib2_times)"
   ]
  },
  {
   "cell_type": "code",
   "execution_count": 16,
   "id": "a6c976b3",
   "metadata": {},
   "outputs": [],
   "source": [
    "import matplotlib\n",
    "import matplotlib.pyplot as plt\n",
    "%matplotlib inline "
   ]
  },
  {
   "cell_type": "code",
   "execution_count": 18,
   "id": "bfe5d532",
   "metadata": {},
   "outputs": [
    {
     "data": {
      "image/png": "[encoded data removed]",
      "text/plain": [
       "<Figure size 640x480 with 1 Axes>"
      ]
     },
     "metadata": {},
     "output_type": "display_data"
    }
   ],
   "source": [
    "plt.figure()\n",
    "plt.xlabel(\"fib(n)\")\n",
    "plt.ylabel(\"time (ms)\")\n",
    "plt.plot(fib1_times)\n",
    "plt.plot(fib2_times )\n",
    "plt.show()"
   ]
  },
  {
   "cell_type": "code",
   "execution_count": null,
   "id": "a2a844ef",
   "metadata": {},
   "outputs": [],
   "source": []
  }
 ],
 "metadata": {
  "kernelspec": {
   "display_name": "Python 3 (ipykernel)",
   "language": "python",
   "name": "python3"
  },
  "language_info": {
   "codemirror_mode": {
    "name": "ipython",
    "version": 3
   },
   "file_extension": ".py",
   "mimetype": "text/x-python",
   "name": "python",
   "nbconvert_exporter": "python",
   "pygments_lexer": "ipython3",
   "version": "3.9.12"
  }
 },
 "nbformat": 4,
 "nbformat_minor": 5
}
