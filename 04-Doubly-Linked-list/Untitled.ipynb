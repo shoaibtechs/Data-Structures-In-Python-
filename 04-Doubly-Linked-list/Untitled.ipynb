{
 "cells": [
  {
   "cell_type": "code",
   "execution_count": 1,
   "id": "b6beeff8",
   "metadata": {},
   "outputs": [],
   "source": [
    "class Node: \n",
    "    def __init__(self, data=None):\n",
    "        self.val = data\n",
    "        self.next = None\n",
    "        self.prev = None\n",
    "    \n",
    "class Doubly:\n",
    "    def __init__(self):\n",
    "        self.head = None"
   ]
  },
  {
   "cell_type": "markdown",
   "id": "803ea99e",
   "metadata": {},
   "source": [
    "##  THE PUSH OPERATION "
   ]
  },
  {
   "cell_type": "code",
   "execution_count": 2,
   "id": "acb63eb2",
   "metadata": {},
   "outputs": [],
   "source": [
    "def push(self,val):\n",
    "        \n",
    "    new_node = Node(val)\n",
    "    \n",
    "    #case-1 If no node exists \n",
    "    \n",
    "    if self.head is None:\n",
    "        self.head = new_node \n",
    "        return \n",
    "    \n",
    "    #case-2 insert at last\n",
    "    \n",
    "    last = self.head \n",
    "    \n",
    "    while last.next is not None:\n",
    "        last = last.next\n",
    "        \n",
    "        \n",
    "    last.next = new_node \n",
    "    new_node.prev =  last \n",
    "    \n",
    "    \n",
    "    \n",
    "    \n",
    "Doubly.push = push "
   ]
  },
  {
   "cell_type": "code",
   "execution_count": 3,
   "id": "866db070",
   "metadata": {},
   "outputs": [],
   "source": [
    "def __str__(self):\n",
    "    ret_str = '['\n",
    "    temp = self.head \n",
    "    \n",
    "    while temp is not None:\n",
    "        ret_str += str(temp.val) + ', '\n",
    "        temp = temp.next \n",
    "        \n",
    "    \n",
    "    ret_str =  ret_str.rstrip(', ')\n",
    "    ret_str += ']'\n",
    "    return ret_str \n",
    "\n",
    "Doubly.__str__ = __str__"
   ]
  },
  {
   "cell_type": "markdown",
   "id": "70f9d478",
   "metadata": {},
   "source": [
    "## THE POP OPERATION "
   ]
  },
  {
   "cell_type": "code",
   "execution_count": 4,
   "id": "3321927a",
   "metadata": {},
   "outputs": [],
   "source": [
    "def pop(self):\n",
    "    \n",
    "    #Case-1:-If there is no node \n",
    "    if self.head is None:\n",
    "        raise Exception(\"Case-1:- There is nothing to pop \")\n",
    "      \n",
    "    #Case-2:- If there is only one node \n",
    "    if self.head.next is None:\n",
    "        val = self.head.val\n",
    "        self.head = None #Automatic Garbage value will be deleted now\n",
    "        return val\n",
    "        \n",
    "        \n",
    "    #case-3:- where there is two or more nodes\n",
    "    \n",
    "    temp = self.head\n",
    "    \n",
    "    \n",
    "    \n",
    "    while temp.next is not None:\n",
    "        prev =  temp\n",
    "        temp = temp.next\n",
    "    \n",
    "    val = temp.val\n",
    "    prev.next = None\n",
    "    return val \n",
    "    \n",
    "\n",
    "    \n",
    "Doubly.pop = pop   "
   ]
  },
  {
   "cell_type": "markdown",
   "id": "91e5dbf4",
   "metadata": {},
   "source": [
    "## The Insert Operation "
   ]
  },
  {
   "cell_type": "code",
   "execution_count": 5,
   "id": "40b34e3b",
   "metadata": {},
   "outputs": [],
   "source": [
    "def insert(self,index,val):\n",
    "    new_node = Node(val)\n",
    "    \n",
    "    \n",
    "    \n",
    "    #case-1 both a and b \n",
    "    \n",
    "    \n",
    "    if index == 0:\n",
    "        new_node.next = self.head\n",
    "        \n",
    "        if self.head is not None :\n",
    "            self.head.prev =  new_node \n",
    "            \n",
    "        \n",
    "        self.head = new_node \n",
    "        \n",
    "        return \n",
    "    \n",
    "    \n",
    "    #case-2 other then 0th index \n",
    "    \n",
    "    temp = self.head \n",
    "    \n",
    "    counter = 0\n",
    "    \n",
    "    while temp is not None and counter < index:\n",
    "        prev = temp\n",
    "        temp = temp.next\n",
    "        counter +=1 \n",
    "         \n",
    "    \n",
    "    prev.next = new_node \n",
    "    new_node.prev = prev\n",
    "    \n",
    "    new_node.next = temp \n",
    "    \n",
    "    if temp is not None:\n",
    "        temp.prev =  new_node \n",
    "    \n",
    "    \n",
    "Doubly.insert = insert "
   ]
  },
  {
   "cell_type": "markdown",
   "id": "3e96634a",
   "metadata": {},
   "source": [
    "## The Remove Operation "
   ]
  },
  {
   "cell_type": "code",
   "execution_count": 41,
   "id": "8684cb15",
   "metadata": {},
   "outputs": [],
   "source": [
    "def remove(self,val):\n",
    "    temp = self.head\n",
    "    \n",
    "    #Case-1 If the value is on head node \n",
    "    \n",
    "    if temp is not None: # If temp is none then it means no node exists\n",
    "        if temp.val == val:\n",
    "            \n",
    "            self.head = temp.next # It can be:-  'self.head.next'  coz both(self and temp) pointing on same node \n",
    "            if self.head is not None: # If head is none, it means only one node exists\n",
    "                self.head.prev = None\n",
    "                return \n",
    "        \n",
    "        \n",
    "    while temp is not None:\n",
    "        if temp.val == val:\n",
    "            break \n",
    "            \n",
    "        prev = temp \n",
    "        temp = temp.next \n",
    "            \n",
    "        if temp is None:\n",
    "            print(\"Value not found \")\n",
    "        \n",
    "        prev.next = temp.next \n",
    "        \n",
    "        if temp.next is not None:\n",
    "            temp.next.prev = prev \n",
    "        \n",
    "        \n",
    "    \n",
    "    \n",
    "        \n",
    "    \n",
    "\n",
    "                \n",
    "Doubly.remove = remove                 "
   ]
  },
  {
   "cell_type": "code",
   "execution_count": 49,
   "id": "871bebfc",
   "metadata": {},
   "outputs": [
    {
     "name": "stdout",
     "output_type": "stream",
     "text": [
      "[1, 2, 3, 4]\n"
     ]
    }
   ],
   "source": [
    "l = Doubly()\n",
    "l.push(1)\n",
    "l.push(2)\n",
    "l.push(3)\n",
    "l.push(4)\n",
    "print(l)"
   ]
  },
  {
   "cell_type": "code",
   "execution_count": 50,
   "id": "4fb4a83a",
   "metadata": {},
   "outputs": [
    {
     "name": "stdout",
     "output_type": "stream",
     "text": [
      "[1, 2]\n"
     ]
    }
   ],
   "source": [
    "l.pop()\n",
    "l.pop()\n",
    "print(l)"
   ]
  },
  {
   "cell_type": "code",
   "execution_count": 51,
   "id": "d950f476",
   "metadata": {},
   "outputs": [
    {
     "name": "stdout",
     "output_type": "stream",
     "text": [
      "[33, 1, 2]\n"
     ]
    }
   ],
   "source": [
    "l.insert(0,33)\n",
    "print(l)"
   ]
  },
  {
   "cell_type": "code",
   "execution_count": 52,
   "id": "e9ed1494",
   "metadata": {},
   "outputs": [
    {
     "name": "stdout",
     "output_type": "stream",
     "text": [
      "[1, 2]\n"
     ]
    }
   ],
   "source": [
    "l.remove(33)\n",
    "print(l)"
   ]
  },
  {
   "cell_type": "code",
   "execution_count": null,
   "id": "b163ece3",
   "metadata": {
    "scrolled": true
   },
   "outputs": [],
   "source": []
  },
  {
   "cell_type": "code",
   "execution_count": null,
   "id": "03d85430",
   "metadata": {},
   "outputs": [],
   "source": []
  },
  {
   "cell_type": "code",
   "execution_count": null,
   "id": "da201ab4",
   "metadata": {},
   "outputs": [],
   "source": []
  },
  {
   "cell_type": "code",
   "execution_count": null,
   "id": "adb7c93b",
   "metadata": {},
   "outputs": [],
   "source": []
  }
 ],
 "metadata": {
  "kernelspec": {
   "display_name": "Python 3 (ipykernel)",
   "language": "python",
   "name": "python3"
  },
  "language_info": {
   "codemirror_mode": {
    "name": "ipython",
    "version": 3
   },
   "file_extension": ".py",
   "mimetype": "text/x-python",
   "name": "python",
   "nbconvert_exporter": "python",
   "pygments_lexer": "ipython3",
   "version": "3.9.12"
  }
 },
 "nbformat": 4,
 "nbformat_minor": 5
}
