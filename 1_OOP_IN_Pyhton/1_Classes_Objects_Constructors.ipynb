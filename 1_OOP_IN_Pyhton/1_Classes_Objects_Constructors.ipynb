{
 "cells": [
  {
   "cell_type": "markdown",
   "id": "18695258",
   "metadata": {},
   "source": [
    "# Example-1"
   ]
  },
  {
   "cell_type": "code",
   "execution_count": 5,
   "id": "7593d70a",
   "metadata": {},
   "outputs": [],
   "source": [
    "class Employee:\n",
    "    \n",
    "    \n",
    "    #Constructor \n",
    "    \n",
    "    def __init__(self,fname,lname,salary):\n",
    "        self.fname = fname\n",
    "        self.lname = lname\n",
    "        self.salary = salary\n",
    "    \n",
    "shoaib =  Employee('shoaib', 'akhtar', 100000)\n",
    "waleed =  Employee('waleed','chatta',200000)\n",
    "        "
   ]
  },
  {
   "cell_type": "code",
   "execution_count": 6,
   "id": "5ff0a0f5",
   "metadata": {},
   "outputs": [
    {
     "name": "stdout",
     "output_type": "stream",
     "text": [
      "Employee-1\n",
      "\n",
      "First Name: shoaib \n",
      "last Name:  akhtar \n",
      "Salary:     100000 \n",
      "\n",
      "Employee-2\n",
      "\n",
      "First Name: waleed \n",
      "last Name:  chatta \n",
      "Salary:     200000\n"
     ]
    }
   ],
   "source": [
    "print(\"Employee-1\\n\")\n",
    "\n",
    "print(\"First Name:\", shoaib.fname,\"\\nlast Name: \", shoaib.lname,\"\\nSalary:    \",shoaib.salary,\"\\n\")\n",
    "\n",
    "print(\"Employee-2\\n\")\n",
    "\n",
    "print(\"First Name:\", waleed.fname,\"\\nlast Name: \", waleed.lname,\"\\nSalary:    \",waleed.salary)"
   ]
  },
  {
   "cell_type": "markdown",
   "id": "8de5ee59",
   "metadata": {},
   "source": [
    "# Example - 2"
   ]
  },
  {
   "cell_type": "code",
   "execution_count": 7,
   "id": "c1dc458b",
   "metadata": {},
   "outputs": [],
   "source": [
    "class Point:\n",
    "    \n",
    "    def __init__(self, x=0, y=0):\n",
    "        self.x = x\n",
    "        self.y = y\n",
    "        \n",
    "        \n",
    "#This function basically changes the address of an obeject to the string for better understanding of humans \n",
    "    def __str__(self):\n",
    "        return \"[\" + str(self.x) + \",\" + str(self.y) + \"]\""
   ]
  },
  {
   "cell_type": "code",
   "execution_count": 8,
   "id": "8fdcf689",
   "metadata": {},
   "outputs": [
    {
     "name": "stdout",
     "output_type": "stream",
     "text": [
      "p1 =  0\n",
      "p2 =  2\n"
     ]
    }
   ],
   "source": [
    "p1 = Point() # p1 is a reference variable\n",
    "print(\"p1 = \",p1.x)\n",
    "\n",
    "\n",
    "p2 = Point(2,4)\n",
    "\n",
    "print(\"p2 = \",p2.x)"
   ]
  },
  {
   "cell_type": "code",
   "execution_count": 9,
   "id": "625bbb2f",
   "metadata": {},
   "outputs": [
    {
     "name": "stdout",
     "output_type": "stream",
     "text": [
      "[2,4]\n"
     ]
    }
   ],
   "source": [
    "print(p2) # this [2,4] is returning because of the "
   ]
  },
  {
   "cell_type": "code",
   "execution_count": null,
   "id": "4490ebf0",
   "metadata": {},
   "outputs": [],
   "source": []
  }
 ],
 "metadata": {
  "kernelspec": {
   "display_name": "Python 3 (ipykernel)",
   "language": "python",
   "name": "python3"
  },
  "language_info": {
   "codemirror_mode": {
    "name": "ipython",
    "version": 3
   },
   "file_extension": ".py",
   "mimetype": "text/x-python",
   "name": "python",
   "nbconvert_exporter": "python",
   "pygments_lexer": "ipython3",
   "version": "3.9.12"
  }
 },
 "nbformat": 4,
 "nbformat_minor": 5
}
